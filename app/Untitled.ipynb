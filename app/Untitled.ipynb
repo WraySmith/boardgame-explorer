{
 "cells": [
  {
   "cell_type": "code",
   "execution_count": 7,
   "id": "alpine-company",
   "metadata": {},
   "outputs": [
    {
     "ename": "IndentationError",
     "evalue": "unexpected indent (<ipython-input-7-8637e29c36d5>, line 44)",
     "output_type": "error",
     "traceback": [
      "\u001b[0;36m  File \u001b[0;32m\"<ipython-input-7-8637e29c36d5>\"\u001b[0;36m, line \u001b[0;32m44\u001b[0m\n\u001b[0;31m    .mark_line(color=\"#1f77b4\", size=3)\u001b[0m\n\u001b[0m    ^\u001b[0m\n\u001b[0;31mIndentationError\u001b[0m\u001b[0;31m:\u001b[0m unexpected indent\n"
     ]
    }
   ],
   "source": [
    "def scatter_plot_dates(cat=None, mech=None, pub=None):\n",
    "    \"\"\"\n",
    "    Takes in inputs filtering data and creates scatter plot\n",
    "    for comparison of user ratings over time\n",
    "\n",
    "    cat: list of strings input\n",
    "    mech: list of strings input\n",
    "    pub: list of strings input\n",
    "\n",
    "    returns: altair plot\n",
    "    \"\"\"\n",
    "\n",
    "    scatter_plot = (\n",
    "        alt.Chart(call_boardgame_filter(cat, mech, pub))\n",
    "        .mark_circle(size=60, opacity=0.1, color=\"grey\")\n",
    "        .encode(\n",
    "            alt.X(\n",
    "                \"year_published\", axis=alt.Axis(title=None), scale=alt.Scale(zero=False)\n",
    "            ),\n",
    "            alt.Y(\n",
    "                \"average_rating\",\n",
    "                axis=alt.Axis(\n",
    "                    title=\"Average Rating\",\n",
    "                    titleFontSize=12,\n",
    "                    offset=14,\n",
    "                    titleFontWeight=600,\n",
    "                ),\n",
    "            ),\n",
    "        )\n",
    "        .properties(\n",
    "            title=alt.TitleParams(\n",
    "                text=\"Figure 1: Game Popularity based on Published Year\",\n",
    "                anchor=\"start\",\n",
    "                fontSize=20,\n",
    "                dy=-20,\n",
    "                dx=20,\n",
    "            ),\n",
    "            width=700,\n",
    "            height=200,\n",
    "        )\n",
    "    )\n",
    "    \n",
    "    p = (\n",
    "        alt.Chart(call_boardgame_filter(cat, mech, pub))\n",
    "        .mark_line(color=\"#1f77b4\", size=3)\n",
    "        .encode(x=\"year_published\", y=\"mean(average_rating)\"))\n",
    "    \n",
    "    \n",
    "    scatter_plot = scatter_plot + p\n",
    "\n",
    "    return scatter_plot"
   ]
  },
  {
   "cell_type": "code",
   "execution_count": null,
   "id": "matched-energy",
   "metadata": {},
   "outputs": [],
   "source": []
  }
 ],
 "metadata": {
  "kernelspec": {
   "display_name": "Python 3",
   "language": "python",
   "name": "python3"
  },
  "language_info": {
   "codemirror_mode": {
    "name": "ipython",
    "version": 3
   },
   "file_extension": ".py",
   "mimetype": "text/x-python",
   "name": "python",
   "nbconvert_exporter": "python",
   "pygments_lexer": "ipython3",
   "version": "3.8.6"
  }
 },
 "nbformat": 4,
 "nbformat_minor": 5
}
