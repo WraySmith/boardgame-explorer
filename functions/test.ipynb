{
 "metadata": {
  "language_info": {
   "codemirror_mode": {
    "name": "ipython",
    "version": 3
   },
   "file_extension": ".py",
   "mimetype": "text/x-python",
   "name": "python",
   "nbconvert_exporter": "python",
   "pygments_lexer": "ipython3",
   "version": "3.8.3-final"
  },
  "orig_nbformat": 2,
  "kernelspec": {
   "name": "python3",
   "display_name": "Python 3.8.3 64-bit (conda)",
   "metadata": {
    "interpreter": {
     "hash": "f8276c093d7ded3cd3b967974e4dc7a67e95d353506c8a69e8f4f7f803efaf80"
    }
   }
  }
 },
 "nbformat": 4,
 "nbformat_minor": 2,
 "cells": [
  {
   "cell_type": "code",
   "execution_count": 42,
   "metadata": {},
   "outputs": [],
   "source": [
    "import pandas as pd\n",
    "import altair as alt"
   ]
  },
  {
   "cell_type": "code",
   "execution_count": 59,
   "metadata": {},
   "outputs": [],
   "source": [
    "def call_boardgame_data(cat, mech, pub):\n",
    "    boardgame_data = pd.read_csv('../data/board_game.csv', parse_dates=['year_published'])\n",
    "    boardgame_data['year_published'] = pd.to_datetime(boardgame_data['year_published'], format= '%Y')\n",
    "    if cat != None:\n",
    "        boardgame_data = boardgame_data[boardgame_data['category']==cat]\n",
    "\n",
    "    \n",
    "    return boardgame_data"
   ]
  },
  {
   "cell_type": "code",
   "execution_count": 90,
   "metadata": {},
   "outputs": [],
   "source": [
    "boardgame_data = pd.read_csv('../data/board_game.csv', parse_dates=['year_published'])\n",
    "boardgame_data['year_published'] = pd.to_datetime(boardgame_data['year_published'], format= '%Y')"
   ]
  },
  {
   "cell_type": "code",
   "execution_count": 12,
   "metadata": {},
   "outputs": [],
   "source": [
    "boardgame_data['category'] = boardgame_data['category'].str.split(\",\")"
   ]
  },
  {
   "cell_type": "code",
   "execution_count": 31,
   "metadata": {},
   "outputs": [],
   "source": [
    "category_ratings_df = boardgame_data.copy()\n",
    "category_ratings_df['category'] = category_ratings_df['category'].str.split(\",\")\n",
    "category_ratings_df = category_ratings_df.explode('category')"
   ]
  },
  {
   "cell_type": "code",
   "execution_count": 32,
   "metadata": {},
   "outputs": [],
   "source": [
    "category_ratings_df_cut = category_ratings_df.groupby('category').filter(lambda x: len(x) > 200)"
   ]
  },
  {
   "cell_type": "code",
   "execution_count": 33,
   "metadata": {},
   "outputs": [],
   "source": [
    "\n",
    "# generate a list of median average rating based on category\n",
    "category_by_rating = category_ratings_df_cut.groupby('category')[\"average_rating\"].median().sort_values(ascending=False).index.to_list()"
   ]
  },
  {
   "cell_type": "code",
   "execution_count": 35,
   "metadata": {},
   "outputs": [],
   "source": [
    "# highlighting for Figure 2 category subset\n",
    "category_ratings_df_cut['highlight'] = False\n",
    "category_ratings_df_cut.loc[category_ratings_df_cut['category'].isin(['Territory Building', 'Fantasy', 'Adventure', 'Horror', 'Card Game', 'Miniatures', 'World War II', 'Wargame']), 'highlight'] = True"
   ]
  },
  {
   "cell_type": "code",
   "execution_count": 37,
   "metadata": {},
   "outputs": [],
   "source": [
    "features_df = boardgame_data.copy()\n",
    "features_df = features_df[(features_df['max_players'] < 20) & (features_df['max_players'] > 0) & (features_df['min_players'] > 0)]\n",
    "features_df = features_df[(features_df['min_playtime'] <= 1000) & (features_df['max_playtime'] <= 2000)]\n",
    "features_df.max_players = features_df.max_players.astype(int)\n",
    "features_df.min_players = features_df.min_players.astype(int)"
   ]
  },
  {
   "cell_type": "code",
   "execution_count": 38,
   "metadata": {},
   "outputs": [],
   "source": [
    "# re read to get date as non-datetime object\n",
    "boardgame_data1 = pd.read_csv('../data/board_game.csv')\n",
    "number_of_categories = boardgame_data1.copy()\n",
    "number_of_mechanics = boardgame_data1.copy()\n",
    "\n",
    "# map the number of categories to a column\n",
    "number_of_categories = number_of_categories.dropna(subset=[\"category\"])\n",
    "number_of_categories = number_of_categories.dropna(subset=[\"mechanic\"])\n",
    "number_of_categories[\"complexity_value\"] = [len(x.split(\",\")) for x in number_of_categories[\"category\"]]\n",
    "number_of_categories[\"complexity_type\"] = \"number of categories\"\n",
    "number_of_categories['year_published'] = pd.to_datetime(number_of_categories['year_published'], format='%Y')\n",
    "\n",
    "# map the number of mechanics to a column\n",
    "number_of_mechanics = number_of_mechanics.dropna(subset=[\"mechanic\"])\n",
    "number_of_mechanics = number_of_mechanics.dropna(subset=[\"category\"])\n",
    "number_of_mechanics[\"complexity_value\"] = [len(x.split(\",\")) for x in number_of_mechanics[\"mechanic\"]]\n",
    "number_of_mechanics[\"complexity_type\"] = \"number of mechanics\"\n",
    "number_of_mechanics['year_published'] = pd.to_datetime(number_of_mechanics['year_published'], format='%Y')"
   ]
  },
  {
   "cell_type": "code",
   "execution_count": 39,
   "metadata": {},
   "outputs": [],
   "source": [
    "# count number of board games produced by each publisher\n",
    "v = boardgame_data1.publisher.value_counts()\n",
    "\n",
    "# top 10 most publishers by games produced\n",
    "top_publishers = set(v[0:10].index)\n",
    "top_10_publishers_by_count = boardgame_data1[boardgame_data1[\"publisher\"].isin(top_publishers)]"
   ]
  },
  {
   "cell_type": "code",
   "execution_count": 75,
   "metadata": {},
   "outputs": [
    {
     "output_type": "execute_result",
     "data": {
      "text/plain": [
       "       game_id                                        description  \\\n",
       "0            1  Die Macher is a game about seven sequential po...   \n",
       "1            2  Dragonmaster is a trick-taking card game based...   \n",
       "2            3  Part of the Knizia tile-laying trilogy, Samura...   \n",
       "3            4  When you see the triangular box and the luxuri...   \n",
       "4            5  In Acquire, each player strategically invests ...   \n",
       "...        ...                                                ...   \n",
       "10527   214996  Description from the publisher:&#10;&#10;Silve...   \n",
       "10528   215437  Codex: Card-Time Strategy is a customizable, n...   \n",
       "10529   215471  Time to walk about town and take some pictures...   \n",
       "10530   216201  The race is on for the robots of the Robo Rall...   \n",
       "10531   216725  The deluxe edition comes in a double tall box ...   \n",
       "\n",
       "                                              image  max_players  \\\n",
       "0       //cf.geekdo-images.com/images/pic159509.jpg            5   \n",
       "1       //cf.geekdo-images.com/images/pic184174.jpg            4   \n",
       "2      //cf.geekdo-images.com/images/pic3211873.jpg            4   \n",
       "3       //cf.geekdo-images.com/images/pic285299.jpg            4   \n",
       "4       //cf.geekdo-images.com/images/pic342163.jpg            6   \n",
       "...                                             ...          ...   \n",
       "10527  //cf.geekdo-images.com/images/pic3093082.png            2   \n",
       "10528  //cf.geekdo-images.com/images/pic3290122.jpg            5   \n",
       "10529  //cf.geekdo-images.com/images/pic3290975.png            4   \n",
       "10530  //cf.geekdo-images.com/images/pic3374227.jpg            6   \n",
       "10531  //cf.geekdo-images.com/images/pic3308211.jpg            5   \n",
       "\n",
       "       max_playtime  min_age  min_players  min_playtime  \\\n",
       "0               240       14            3           240   \n",
       "1                30       12            3            30   \n",
       "2                60       10            2            30   \n",
       "3                60       12            2            60   \n",
       "4                90       12            3            90   \n",
       "...             ...      ...          ...           ...   \n",
       "10527           480       12            1            30   \n",
       "10528            45       13            2            45   \n",
       "10529            20       12            2            20   \n",
       "10530           120       12            2            20   \n",
       "10531            60       14            1            30   \n",
       "\n",
       "                                                    name  playing_time  ...  \\\n",
       "0                                             Die Macher           240  ...   \n",
       "1                                           Dragonmaster            30  ...   \n",
       "2                                                Samurai            60  ...   \n",
       "3                                         Tal der Könige            60  ...   \n",
       "4                                                Acquire            90  ...   \n",
       "...                                                  ...           ...  ...   \n",
       "10527  Silver Bayonet: The First Team in Vietnam, 196...           480  ...   \n",
       "10528               Codex: Card-Time Strategy – Core Set            45  ...   \n",
       "10529                                     Wind the Film!            20  ...   \n",
       "10530                                  Robo Rally (2016)           120  ...   \n",
       "10531    Villages of Valeria: Deluxe Kickstarter Edition            60  ...   \n",
       "\n",
       "                            artist  \\\n",
       "0              Marcus Gschwendtner   \n",
       "1                       Bob Pepper   \n",
       "2                  Franz Vohwinkel   \n",
       "3                              NaN   \n",
       "4      Scott Okumura,Peter Whitley   \n",
       "...                            ...   \n",
       "10527               Charles Kibler   \n",
       "10528                          NaN   \n",
       "10529       宝井 貴子 (Takako Takarai)   \n",
       "10530                          NaN   \n",
       "10531         Mihajlo Dimitrievski   \n",
       "\n",
       "                                          category  \\\n",
       "0                   Economic,Negotiation,Political   \n",
       "1                                Card Game,Fantasy   \n",
       "2                       Abstract Strategy,Medieval   \n",
       "3                                          Ancient   \n",
       "4                                         Economic   \n",
       "...                                            ...   \n",
       "10527                          Vietnam War,Wargame   \n",
       "10528  Card Game,Fantasy,Fighting,Video Game Theme   \n",
       "10529                                    Card Game   \n",
       "10530            Miniatures,Racing,Science Fiction   \n",
       "10531                      Card Game,City Building   \n",
       "\n",
       "                                             compilation  \\\n",
       "0                                                    NaN   \n",
       "1                                                    NaN   \n",
       "2                                                    NaN   \n",
       "3                                                    NaN   \n",
       "4                                                    NaN   \n",
       "...                                                  ...   \n",
       "10527                                                NaN   \n",
       "10528                                                NaN   \n",
       "10529                                                NaN   \n",
       "10530                                                NaN   \n",
       "10531  Villages of Valeria,Villages of Valeria: Bard ...   \n",
       "\n",
       "                             designer  \\\n",
       "0                  Karl-Heinz Schmiel   \n",
       "1               G. W. \"Jerry\" D'Arcey   \n",
       "2                       Reiner Knizia   \n",
       "3                   Christian Beierer   \n",
       "4                         Sid Sackson   \n",
       "...                               ...   \n",
       "10527  Gene Billingsley,Mitchell Land   \n",
       "10528                    David Sirlin   \n",
       "10529                          Saashi   \n",
       "10530                Richard Garfield   \n",
       "10531   Rick Holzgrafe,Isaias Vallejo   \n",
       "\n",
       "                                               expansion  \\\n",
       "0                                                    NaN   \n",
       "1                                                    NaN   \n",
       "2                                                    NaN   \n",
       "3                                                    NaN   \n",
       "4                                                    NaN   \n",
       "...                                                  ...   \n",
       "10527                                                NaN   \n",
       "10528  Codex: Card-Time Strategy – Flagstone Dominion...   \n",
       "10529                                                NaN   \n",
       "10530                                                NaN   \n",
       "10531                                                NaN   \n",
       "\n",
       "                                                  family  \\\n",
       "0             Country: Germany,Valley Games Classic Line   \n",
       "1                                       Animals: Dragons   \n",
       "2      Asian Theme,Country: Japan,Knizia tile-laying ...   \n",
       "3                 Country: Egypt,Promotional Board Games   \n",
       "4                                    3M Bookshelf Series   \n",
       "...                                                  ...   \n",
       "10527                             GMT Operational System   \n",
       "10528                                     Fantasy Strike   \n",
       "10529                                                NaN   \n",
       "10530                                             Robots   \n",
       "10531         Crowdfunding: Kickstarter,Tableau Building   \n",
       "\n",
       "                                                mechanic  \\\n",
       "0      Area Control / Area Influence,Auction/Bidding,...   \n",
       "1                                           Trick-taking   \n",
       "2      Area Control / Area Influence,Hand Management,...   \n",
       "3      Action Point Allowance System,Area Control / A...   \n",
       "4           Hand Management,Stock Holding,Tile Placement   \n",
       "...                                                  ...   \n",
       "10527                                    Hex-and-Counter   \n",
       "10528  Deck / Pool Building,Hand Management,Variable ...   \n",
       "10529                     Hand Management,Set Collection   \n",
       "10530  Action / Movement Programming,Grid Movement,Mo...   \n",
       "10531                      Card Drafting,Hand Management   \n",
       "\n",
       "                                               publisher average_rating  \\\n",
       "0      Hans im Glück Verlags-GmbH,Moskito Spiele,Vall...        7.66508   \n",
       "1                               E.S. Lowe,Milton Bradley        6.60815   \n",
       "2      999 Games,ABACUSSPIELE,Astrel Games,Ceilikan J...        7.44119   \n",
       "3                                                 KOSMOS        6.60675   \n",
       "4      3M,Avalon Hill,Avalon Hill (Hasbro),Dujardin,G...        7.35830   \n",
       "...                                                  ...            ...   \n",
       "10527                                          GMT Games        8.35333   \n",
       "10528                                       Sirlin Games        8.08780   \n",
       "10529                                    Saashi & Saashi        7.28016   \n",
       "10530                        Avalon Hill (Hasbro),Hasbro        7.45871   \n",
       "10531                                  Daily Magic Games        7.52941   \n",
       "\n",
       "      users_rated  \n",
       "0            4498  \n",
       "1             478  \n",
       "2           12019  \n",
       "3             314  \n",
       "4           15195  \n",
       "...           ...  \n",
       "10527          75  \n",
       "10528          82  \n",
       "10529          63  \n",
       "10530         341  \n",
       "10531         119  \n",
       "\n",
       "[10532 rows x 22 columns]"
      ],
      "text/html": "<div>\n<style scoped>\n    .dataframe tbody tr th:only-of-type {\n        vertical-align: middle;\n    }\n\n    .dataframe tbody tr th {\n        vertical-align: top;\n    }\n\n    .dataframe thead th {\n        text-align: right;\n    }\n</style>\n<table border=\"1\" class=\"dataframe\">\n  <thead>\n    <tr style=\"text-align: right;\">\n      <th></th>\n      <th>game_id</th>\n      <th>description</th>\n      <th>image</th>\n      <th>max_players</th>\n      <th>max_playtime</th>\n      <th>min_age</th>\n      <th>min_players</th>\n      <th>min_playtime</th>\n      <th>name</th>\n      <th>playing_time</th>\n      <th>...</th>\n      <th>artist</th>\n      <th>category</th>\n      <th>compilation</th>\n      <th>designer</th>\n      <th>expansion</th>\n      <th>family</th>\n      <th>mechanic</th>\n      <th>publisher</th>\n      <th>average_rating</th>\n      <th>users_rated</th>\n    </tr>\n  </thead>\n  <tbody>\n    <tr>\n      <th>0</th>\n      <td>1</td>\n      <td>Die Macher is a game about seven sequential po...</td>\n      <td>//cf.geekdo-images.com/images/pic159509.jpg</td>\n      <td>5</td>\n      <td>240</td>\n      <td>14</td>\n      <td>3</td>\n      <td>240</td>\n      <td>Die Macher</td>\n      <td>240</td>\n      <td>...</td>\n      <td>Marcus Gschwendtner</td>\n      <td>Economic,Negotiation,Political</td>\n      <td>NaN</td>\n      <td>Karl-Heinz Schmiel</td>\n      <td>NaN</td>\n      <td>Country: Germany,Valley Games Classic Line</td>\n      <td>Area Control / Area Influence,Auction/Bidding,...</td>\n      <td>Hans im Glück Verlags-GmbH,Moskito Spiele,Vall...</td>\n      <td>7.66508</td>\n      <td>4498</td>\n    </tr>\n    <tr>\n      <th>1</th>\n      <td>2</td>\n      <td>Dragonmaster is a trick-taking card game based...</td>\n      <td>//cf.geekdo-images.com/images/pic184174.jpg</td>\n      <td>4</td>\n      <td>30</td>\n      <td>12</td>\n      <td>3</td>\n      <td>30</td>\n      <td>Dragonmaster</td>\n      <td>30</td>\n      <td>...</td>\n      <td>Bob Pepper</td>\n      <td>Card Game,Fantasy</td>\n      <td>NaN</td>\n      <td>G. W. \"Jerry\" D'Arcey</td>\n      <td>NaN</td>\n      <td>Animals: Dragons</td>\n      <td>Trick-taking</td>\n      <td>E.S. Lowe,Milton Bradley</td>\n      <td>6.60815</td>\n      <td>478</td>\n    </tr>\n    <tr>\n      <th>2</th>\n      <td>3</td>\n      <td>Part of the Knizia tile-laying trilogy, Samura...</td>\n      <td>//cf.geekdo-images.com/images/pic3211873.jpg</td>\n      <td>4</td>\n      <td>60</td>\n      <td>10</td>\n      <td>2</td>\n      <td>30</td>\n      <td>Samurai</td>\n      <td>60</td>\n      <td>...</td>\n      <td>Franz Vohwinkel</td>\n      <td>Abstract Strategy,Medieval</td>\n      <td>NaN</td>\n      <td>Reiner Knizia</td>\n      <td>NaN</td>\n      <td>Asian Theme,Country: Japan,Knizia tile-laying ...</td>\n      <td>Area Control / Area Influence,Hand Management,...</td>\n      <td>999 Games,ABACUSSPIELE,Astrel Games,Ceilikan J...</td>\n      <td>7.44119</td>\n      <td>12019</td>\n    </tr>\n    <tr>\n      <th>3</th>\n      <td>4</td>\n      <td>When you see the triangular box and the luxuri...</td>\n      <td>//cf.geekdo-images.com/images/pic285299.jpg</td>\n      <td>4</td>\n      <td>60</td>\n      <td>12</td>\n      <td>2</td>\n      <td>60</td>\n      <td>Tal der Könige</td>\n      <td>60</td>\n      <td>...</td>\n      <td>NaN</td>\n      <td>Ancient</td>\n      <td>NaN</td>\n      <td>Christian Beierer</td>\n      <td>NaN</td>\n      <td>Country: Egypt,Promotional Board Games</td>\n      <td>Action Point Allowance System,Area Control / A...</td>\n      <td>KOSMOS</td>\n      <td>6.60675</td>\n      <td>314</td>\n    </tr>\n    <tr>\n      <th>4</th>\n      <td>5</td>\n      <td>In Acquire, each player strategically invests ...</td>\n      <td>//cf.geekdo-images.com/images/pic342163.jpg</td>\n      <td>6</td>\n      <td>90</td>\n      <td>12</td>\n      <td>3</td>\n      <td>90</td>\n      <td>Acquire</td>\n      <td>90</td>\n      <td>...</td>\n      <td>Scott Okumura,Peter Whitley</td>\n      <td>Economic</td>\n      <td>NaN</td>\n      <td>Sid Sackson</td>\n      <td>NaN</td>\n      <td>3M Bookshelf Series</td>\n      <td>Hand Management,Stock Holding,Tile Placement</td>\n      <td>3M,Avalon Hill,Avalon Hill (Hasbro),Dujardin,G...</td>\n      <td>7.35830</td>\n      <td>15195</td>\n    </tr>\n    <tr>\n      <th>...</th>\n      <td>...</td>\n      <td>...</td>\n      <td>...</td>\n      <td>...</td>\n      <td>...</td>\n      <td>...</td>\n      <td>...</td>\n      <td>...</td>\n      <td>...</td>\n      <td>...</td>\n      <td>...</td>\n      <td>...</td>\n      <td>...</td>\n      <td>...</td>\n      <td>...</td>\n      <td>...</td>\n      <td>...</td>\n      <td>...</td>\n      <td>...</td>\n      <td>...</td>\n      <td>...</td>\n    </tr>\n    <tr>\n      <th>10527</th>\n      <td>214996</td>\n      <td>Description from the publisher:&amp;#10;&amp;#10;Silve...</td>\n      <td>//cf.geekdo-images.com/images/pic3093082.png</td>\n      <td>2</td>\n      <td>480</td>\n      <td>12</td>\n      <td>1</td>\n      <td>30</td>\n      <td>Silver Bayonet: The First Team in Vietnam, 196...</td>\n      <td>480</td>\n      <td>...</td>\n      <td>Charles Kibler</td>\n      <td>Vietnam War,Wargame</td>\n      <td>NaN</td>\n      <td>Gene Billingsley,Mitchell Land</td>\n      <td>NaN</td>\n      <td>GMT Operational System</td>\n      <td>Hex-and-Counter</td>\n      <td>GMT Games</td>\n      <td>8.35333</td>\n      <td>75</td>\n    </tr>\n    <tr>\n      <th>10528</th>\n      <td>215437</td>\n      <td>Codex: Card-Time Strategy is a customizable, n...</td>\n      <td>//cf.geekdo-images.com/images/pic3290122.jpg</td>\n      <td>5</td>\n      <td>45</td>\n      <td>13</td>\n      <td>2</td>\n      <td>45</td>\n      <td>Codex: Card-Time Strategy – Core Set</td>\n      <td>45</td>\n      <td>...</td>\n      <td>NaN</td>\n      <td>Card Game,Fantasy,Fighting,Video Game Theme</td>\n      <td>NaN</td>\n      <td>David Sirlin</td>\n      <td>Codex: Card-Time Strategy – Flagstone Dominion...</td>\n      <td>Fantasy Strike</td>\n      <td>Deck / Pool Building,Hand Management,Variable ...</td>\n      <td>Sirlin Games</td>\n      <td>8.08780</td>\n      <td>82</td>\n    </tr>\n    <tr>\n      <th>10529</th>\n      <td>215471</td>\n      <td>Time to walk about town and take some pictures...</td>\n      <td>//cf.geekdo-images.com/images/pic3290975.png</td>\n      <td>4</td>\n      <td>20</td>\n      <td>12</td>\n      <td>2</td>\n      <td>20</td>\n      <td>Wind the Film!</td>\n      <td>20</td>\n      <td>...</td>\n      <td>宝井 貴子 (Takako Takarai)</td>\n      <td>Card Game</td>\n      <td>NaN</td>\n      <td>Saashi</td>\n      <td>NaN</td>\n      <td>NaN</td>\n      <td>Hand Management,Set Collection</td>\n      <td>Saashi &amp; Saashi</td>\n      <td>7.28016</td>\n      <td>63</td>\n    </tr>\n    <tr>\n      <th>10530</th>\n      <td>216201</td>\n      <td>The race is on for the robots of the Robo Rall...</td>\n      <td>//cf.geekdo-images.com/images/pic3374227.jpg</td>\n      <td>6</td>\n      <td>120</td>\n      <td>12</td>\n      <td>2</td>\n      <td>20</td>\n      <td>Robo Rally (2016)</td>\n      <td>120</td>\n      <td>...</td>\n      <td>NaN</td>\n      <td>Miniatures,Racing,Science Fiction</td>\n      <td>NaN</td>\n      <td>Richard Garfield</td>\n      <td>NaN</td>\n      <td>Robots</td>\n      <td>Action / Movement Programming,Grid Movement,Mo...</td>\n      <td>Avalon Hill (Hasbro),Hasbro</td>\n      <td>7.45871</td>\n      <td>341</td>\n    </tr>\n    <tr>\n      <th>10531</th>\n      <td>216725</td>\n      <td>The deluxe edition comes in a double tall box ...</td>\n      <td>//cf.geekdo-images.com/images/pic3308211.jpg</td>\n      <td>5</td>\n      <td>60</td>\n      <td>14</td>\n      <td>1</td>\n      <td>30</td>\n      <td>Villages of Valeria: Deluxe Kickstarter Edition</td>\n      <td>60</td>\n      <td>...</td>\n      <td>Mihajlo Dimitrievski</td>\n      <td>Card Game,City Building</td>\n      <td>Villages of Valeria,Villages of Valeria: Bard ...</td>\n      <td>Rick Holzgrafe,Isaias Vallejo</td>\n      <td>NaN</td>\n      <td>Crowdfunding: Kickstarter,Tableau Building</td>\n      <td>Card Drafting,Hand Management</td>\n      <td>Daily Magic Games</td>\n      <td>7.52941</td>\n      <td>119</td>\n    </tr>\n  </tbody>\n</table>\n<p>10532 rows × 22 columns</p>\n</div>"
     },
     "metadata": {},
     "execution_count": 75
    }
   ],
   "source": [
    "boardgame_data"
   ]
  },
  {
   "cell_type": "code",
   "execution_count": 106,
   "metadata": {},
   "outputs": [],
   "source": [
    "def clean_alt_list(list_):\n",
    "    if type(list_) is str:\n",
    "        list_ = list_.replace(\",\",\"','\")\n",
    "        list_ = list_.replace(\"[\", \"['\")\n",
    "        list_ = list_.replace(\"]\",\"']\")\n",
    "        return list_\n",
    "    else:\n",
    "        pass\n",
    "\n"
   ]
  },
  {
   "cell_type": "code",
   "execution_count": 107,
   "metadata": {},
   "outputs": [],
   "source": [
    "boardgame_data['category'] = boardgame_data['category'].apply(clean_alt_list)"
   ]
  },
  {
   "cell_type": "code",
   "execution_count": 109,
   "metadata": {},
   "outputs": [
    {
     "output_type": "execute_result",
     "data": {
      "text/plain": [
       "'Card Game\",\"Fantasy'"
      ]
     },
     "metadata": {},
     "execution_count": 109
    }
   ],
   "source": [
    "boardgame_data['category'][1]"
   ]
  },
  {
   "cell_type": "code",
   "execution_count": 63,
   "metadata": {},
   "outputs": [],
   "source": [
    "\n",
    "boardgame_data['Linelabel'] = 'Mean Annual Average User Rating'\n",
    "\n",
    "def scatter_plot_dates(cat=None, mech=None, pub=None):\n",
    "    \"\"\"\n",
    "    Takes in inputs for x and y axis and creates scatter plot for comparisons\n",
    "\n",
    "    xcat: string input\n",
    "    ycat: string input\n",
    "\n",
    "    returns: altair plot\n",
    "    \"\"\"\n",
    "\n",
    "    pa1 = (\n",
    "        alt.Chart(call_boardgame_data(cat, mech, pub))\n",
    "        .mark_circle(size=60, opacity=0.1, color=\"grey\")\n",
    "        .encode(\n",
    "            alt.X(\n",
    "                \"year_published\", axis=alt.Axis(title=None), scale=alt.Scale(zero=False)\n",
    "            ),\n",
    "            alt.Y(\n",
    "                \"average_rating\",\n",
    "                axis=alt.Axis(title='Average Rating',\n",
    "                    titleFontSize=12,\n",
    "                    offset=14,\n",
    "                    titleFontWeight=600,\n",
    "                ),\n",
    "            ),\n",
    "        )\n",
    "        .properties(\n",
    "            title=alt.TitleParams(\n",
    "                text=\"Figure 1: Game Popularity based on Published Year\",\n",
    "                anchor=\"start\",\n",
    "                fontSize=20,\n",
    "                dy=-20,\n",
    "                dx=20,\n",
    "            ),\n",
    "            width=700,\n",
    "            height=200,\n",
    "        )\n",
    "    )\n",
    "    pa1 = pa1 + (\n",
    "        alt.Chart(call_boardgame_data(cat, mech, pub))\n",
    "        .mark_line(color=\"#1f77b4\", size=3)\n",
    "        .encode(\n",
    "            x=\"year_published\",\n",
    "            y=\"mean(average_rating)\",\n",
    "            opacity=alt.Opacity(\n",
    "                \"Linelabel\", legend=alt.Legend(title=None, orient=\"top-left\")\n",
    "            ),\n",
    "        )\n",
    "    )\n",
    "\n",
    "    return pa1"
   ]
  },
  {
   "cell_type": "code",
   "execution_count": 64,
   "metadata": {},
   "outputs": [
    {
     "output_type": "error",
     "ename": "ValueError",
     "evalue": "Linelabel encoding field is specified without a type; the type cannot be inferred because it does not match any column in the data.",
     "traceback": [
      "\u001b[1;31m---------------------------------------------------------------------------\u001b[0m",
      "\u001b[1;31mValueError\u001b[0m                                Traceback (most recent call last)",
      "\u001b[1;32m~\\miniconda3\\lib\\site-packages\\altair\\vegalite\\v4\\api.py\u001b[0m in \u001b[0;36mto_dict\u001b[1;34m(self, *args, **kwargs)\u001b[0m\n\u001b[0;32m    371\u001b[0m \u001b[1;33m\u001b[0m\u001b[0m\n\u001b[0;32m    372\u001b[0m         \u001b[1;32mtry\u001b[0m\u001b[1;33m:\u001b[0m\u001b[1;33m\u001b[0m\u001b[1;33m\u001b[0m\u001b[0m\n\u001b[1;32m--> 373\u001b[1;33m             \u001b[0mdct\u001b[0m \u001b[1;33m=\u001b[0m \u001b[0msuper\u001b[0m\u001b[1;33m(\u001b[0m\u001b[0mTopLevelMixin\u001b[0m\u001b[1;33m,\u001b[0m \u001b[0mcopy\u001b[0m\u001b[1;33m)\u001b[0m\u001b[1;33m.\u001b[0m\u001b[0mto_dict\u001b[0m\u001b[1;33m(\u001b[0m\u001b[1;33m*\u001b[0m\u001b[0margs\u001b[0m\u001b[1;33m,\u001b[0m \u001b[1;33m**\u001b[0m\u001b[0mkwargs\u001b[0m\u001b[1;33m)\u001b[0m\u001b[1;33m\u001b[0m\u001b[1;33m\u001b[0m\u001b[0m\n\u001b[0m\u001b[0;32m    374\u001b[0m         \u001b[1;32mexcept\u001b[0m \u001b[0mjsonschema\u001b[0m\u001b[1;33m.\u001b[0m\u001b[0mValidationError\u001b[0m\u001b[1;33m:\u001b[0m\u001b[1;33m\u001b[0m\u001b[1;33m\u001b[0m\u001b[0m\n\u001b[0;32m    375\u001b[0m             \u001b[0mdct\u001b[0m \u001b[1;33m=\u001b[0m \u001b[1;32mNone\u001b[0m\u001b[1;33m\u001b[0m\u001b[1;33m\u001b[0m\u001b[0m\n",
      "\u001b[1;32m~\\miniconda3\\lib\\site-packages\\altair\\utils\\schemapi.py\u001b[0m in \u001b[0;36mto_dict\u001b[1;34m(self, validate, ignore, context)\u001b[0m\n\u001b[0;32m    323\u001b[0m             \u001b[0mresult\u001b[0m \u001b[1;33m=\u001b[0m \u001b[0m_todict\u001b[0m\u001b[1;33m(\u001b[0m\u001b[0mself\u001b[0m\u001b[1;33m.\u001b[0m\u001b[0m_args\u001b[0m\u001b[1;33m[\u001b[0m\u001b[1;36m0\u001b[0m\u001b[1;33m]\u001b[0m\u001b[1;33m,\u001b[0m \u001b[0mvalidate\u001b[0m\u001b[1;33m=\u001b[0m\u001b[0msub_validate\u001b[0m\u001b[1;33m,\u001b[0m \u001b[0mcontext\u001b[0m\u001b[1;33m=\u001b[0m\u001b[0mcontext\u001b[0m\u001b[1;33m)\u001b[0m\u001b[1;33m\u001b[0m\u001b[1;33m\u001b[0m\u001b[0m\n\u001b[0;32m    324\u001b[0m         \u001b[1;32melif\u001b[0m \u001b[1;32mnot\u001b[0m \u001b[0mself\u001b[0m\u001b[1;33m.\u001b[0m\u001b[0m_args\u001b[0m\u001b[1;33m:\u001b[0m\u001b[1;33m\u001b[0m\u001b[1;33m\u001b[0m\u001b[0m\n\u001b[1;32m--> 325\u001b[1;33m             result = _todict(\n\u001b[0m\u001b[0;32m    326\u001b[0m                 \u001b[1;33m{\u001b[0m\u001b[0mk\u001b[0m\u001b[1;33m:\u001b[0m \u001b[0mv\u001b[0m \u001b[1;32mfor\u001b[0m \u001b[0mk\u001b[0m\u001b[1;33m,\u001b[0m \u001b[0mv\u001b[0m \u001b[1;32min\u001b[0m \u001b[0mself\u001b[0m\u001b[1;33m.\u001b[0m\u001b[0m_kwds\u001b[0m\u001b[1;33m.\u001b[0m\u001b[0mitems\u001b[0m\u001b[1;33m(\u001b[0m\u001b[1;33m)\u001b[0m \u001b[1;32mif\u001b[0m \u001b[0mk\u001b[0m \u001b[1;32mnot\u001b[0m \u001b[1;32min\u001b[0m \u001b[0mignore\u001b[0m\u001b[1;33m}\u001b[0m\u001b[1;33m,\u001b[0m\u001b[1;33m\u001b[0m\u001b[1;33m\u001b[0m\u001b[0m\n\u001b[0;32m    327\u001b[0m                 \u001b[0mvalidate\u001b[0m\u001b[1;33m=\u001b[0m\u001b[0msub_validate\u001b[0m\u001b[1;33m,\u001b[0m\u001b[1;33m\u001b[0m\u001b[1;33m\u001b[0m\u001b[0m\n",
      "\u001b[1;32m~\\miniconda3\\lib\\site-packages\\altair\\utils\\schemapi.py\u001b[0m in \u001b[0;36m_todict\u001b[1;34m(obj, validate, context)\u001b[0m\n\u001b[0;32m     58\u001b[0m         \u001b[1;32mreturn\u001b[0m \u001b[1;33m[\u001b[0m\u001b[0m_todict\u001b[0m\u001b[1;33m(\u001b[0m\u001b[0mv\u001b[0m\u001b[1;33m,\u001b[0m \u001b[0mvalidate\u001b[0m\u001b[1;33m,\u001b[0m \u001b[0mcontext\u001b[0m\u001b[1;33m)\u001b[0m \u001b[1;32mfor\u001b[0m \u001b[0mv\u001b[0m \u001b[1;32min\u001b[0m \u001b[0mobj\u001b[0m\u001b[1;33m]\u001b[0m\u001b[1;33m\u001b[0m\u001b[1;33m\u001b[0m\u001b[0m\n\u001b[0;32m     59\u001b[0m     \u001b[1;32melif\u001b[0m \u001b[0misinstance\u001b[0m\u001b[1;33m(\u001b[0m\u001b[0mobj\u001b[0m\u001b[1;33m,\u001b[0m \u001b[0mdict\u001b[0m\u001b[1;33m)\u001b[0m\u001b[1;33m:\u001b[0m\u001b[1;33m\u001b[0m\u001b[1;33m\u001b[0m\u001b[0m\n\u001b[1;32m---> 60\u001b[1;33m         return {\n\u001b[0m\u001b[0;32m     61\u001b[0m             \u001b[0mk\u001b[0m\u001b[1;33m:\u001b[0m \u001b[0m_todict\u001b[0m\u001b[1;33m(\u001b[0m\u001b[0mv\u001b[0m\u001b[1;33m,\u001b[0m \u001b[0mvalidate\u001b[0m\u001b[1;33m,\u001b[0m \u001b[0mcontext\u001b[0m\u001b[1;33m)\u001b[0m\u001b[1;33m\u001b[0m\u001b[1;33m\u001b[0m\u001b[0m\n\u001b[0;32m     62\u001b[0m             \u001b[1;32mfor\u001b[0m \u001b[0mk\u001b[0m\u001b[1;33m,\u001b[0m \u001b[0mv\u001b[0m \u001b[1;32min\u001b[0m \u001b[0mobj\u001b[0m\u001b[1;33m.\u001b[0m\u001b[0mitems\u001b[0m\u001b[1;33m(\u001b[0m\u001b[1;33m)\u001b[0m\u001b[1;33m\u001b[0m\u001b[1;33m\u001b[0m\u001b[0m\n",
      "\u001b[1;32m~\\miniconda3\\lib\\site-packages\\altair\\utils\\schemapi.py\u001b[0m in \u001b[0;36m<dictcomp>\u001b[1;34m(.0)\u001b[0m\n\u001b[0;32m     59\u001b[0m     \u001b[1;32melif\u001b[0m \u001b[0misinstance\u001b[0m\u001b[1;33m(\u001b[0m\u001b[0mobj\u001b[0m\u001b[1;33m,\u001b[0m \u001b[0mdict\u001b[0m\u001b[1;33m)\u001b[0m\u001b[1;33m:\u001b[0m\u001b[1;33m\u001b[0m\u001b[1;33m\u001b[0m\u001b[0m\n\u001b[0;32m     60\u001b[0m         return {\n\u001b[1;32m---> 61\u001b[1;33m             \u001b[0mk\u001b[0m\u001b[1;33m:\u001b[0m \u001b[0m_todict\u001b[0m\u001b[1;33m(\u001b[0m\u001b[0mv\u001b[0m\u001b[1;33m,\u001b[0m \u001b[0mvalidate\u001b[0m\u001b[1;33m,\u001b[0m \u001b[0mcontext\u001b[0m\u001b[1;33m)\u001b[0m\u001b[1;33m\u001b[0m\u001b[1;33m\u001b[0m\u001b[0m\n\u001b[0m\u001b[0;32m     62\u001b[0m             \u001b[1;32mfor\u001b[0m \u001b[0mk\u001b[0m\u001b[1;33m,\u001b[0m \u001b[0mv\u001b[0m \u001b[1;32min\u001b[0m \u001b[0mobj\u001b[0m\u001b[1;33m.\u001b[0m\u001b[0mitems\u001b[0m\u001b[1;33m(\u001b[0m\u001b[1;33m)\u001b[0m\u001b[1;33m\u001b[0m\u001b[1;33m\u001b[0m\u001b[0m\n\u001b[0;32m     63\u001b[0m             \u001b[1;32mif\u001b[0m \u001b[0mv\u001b[0m \u001b[1;32mis\u001b[0m \u001b[1;32mnot\u001b[0m \u001b[0mUndefined\u001b[0m\u001b[1;33m\u001b[0m\u001b[1;33m\u001b[0m\u001b[0m\n",
      "\u001b[1;32m~\\miniconda3\\lib\\site-packages\\altair\\utils\\schemapi.py\u001b[0m in \u001b[0;36m_todict\u001b[1;34m(obj, validate, context)\u001b[0m\n\u001b[0;32m     56\u001b[0m         \u001b[1;32mreturn\u001b[0m \u001b[0mobj\u001b[0m\u001b[1;33m.\u001b[0m\u001b[0mto_dict\u001b[0m\u001b[1;33m(\u001b[0m\u001b[0mvalidate\u001b[0m\u001b[1;33m=\u001b[0m\u001b[0mvalidate\u001b[0m\u001b[1;33m,\u001b[0m \u001b[0mcontext\u001b[0m\u001b[1;33m=\u001b[0m\u001b[0mcontext\u001b[0m\u001b[1;33m)\u001b[0m\u001b[1;33m\u001b[0m\u001b[1;33m\u001b[0m\u001b[0m\n\u001b[0;32m     57\u001b[0m     \u001b[1;32melif\u001b[0m \u001b[0misinstance\u001b[0m\u001b[1;33m(\u001b[0m\u001b[0mobj\u001b[0m\u001b[1;33m,\u001b[0m \u001b[1;33m(\u001b[0m\u001b[0mlist\u001b[0m\u001b[1;33m,\u001b[0m \u001b[0mtuple\u001b[0m\u001b[1;33m,\u001b[0m \u001b[0mnp\u001b[0m\u001b[1;33m.\u001b[0m\u001b[0mndarray\u001b[0m\u001b[1;33m)\u001b[0m\u001b[1;33m)\u001b[0m\u001b[1;33m:\u001b[0m\u001b[1;33m\u001b[0m\u001b[1;33m\u001b[0m\u001b[0m\n\u001b[1;32m---> 58\u001b[1;33m         \u001b[1;32mreturn\u001b[0m \u001b[1;33m[\u001b[0m\u001b[0m_todict\u001b[0m\u001b[1;33m(\u001b[0m\u001b[0mv\u001b[0m\u001b[1;33m,\u001b[0m \u001b[0mvalidate\u001b[0m\u001b[1;33m,\u001b[0m \u001b[0mcontext\u001b[0m\u001b[1;33m)\u001b[0m \u001b[1;32mfor\u001b[0m \u001b[0mv\u001b[0m \u001b[1;32min\u001b[0m \u001b[0mobj\u001b[0m\u001b[1;33m]\u001b[0m\u001b[1;33m\u001b[0m\u001b[1;33m\u001b[0m\u001b[0m\n\u001b[0m\u001b[0;32m     59\u001b[0m     \u001b[1;32melif\u001b[0m \u001b[0misinstance\u001b[0m\u001b[1;33m(\u001b[0m\u001b[0mobj\u001b[0m\u001b[1;33m,\u001b[0m \u001b[0mdict\u001b[0m\u001b[1;33m)\u001b[0m\u001b[1;33m:\u001b[0m\u001b[1;33m\u001b[0m\u001b[1;33m\u001b[0m\u001b[0m\n\u001b[0;32m     60\u001b[0m         return {\n",
      "\u001b[1;32m~\\miniconda3\\lib\\site-packages\\altair\\utils\\schemapi.py\u001b[0m in \u001b[0;36m<listcomp>\u001b[1;34m(.0)\u001b[0m\n\u001b[0;32m     56\u001b[0m         \u001b[1;32mreturn\u001b[0m \u001b[0mobj\u001b[0m\u001b[1;33m.\u001b[0m\u001b[0mto_dict\u001b[0m\u001b[1;33m(\u001b[0m\u001b[0mvalidate\u001b[0m\u001b[1;33m=\u001b[0m\u001b[0mvalidate\u001b[0m\u001b[1;33m,\u001b[0m \u001b[0mcontext\u001b[0m\u001b[1;33m=\u001b[0m\u001b[0mcontext\u001b[0m\u001b[1;33m)\u001b[0m\u001b[1;33m\u001b[0m\u001b[1;33m\u001b[0m\u001b[0m\n\u001b[0;32m     57\u001b[0m     \u001b[1;32melif\u001b[0m \u001b[0misinstance\u001b[0m\u001b[1;33m(\u001b[0m\u001b[0mobj\u001b[0m\u001b[1;33m,\u001b[0m \u001b[1;33m(\u001b[0m\u001b[0mlist\u001b[0m\u001b[1;33m,\u001b[0m \u001b[0mtuple\u001b[0m\u001b[1;33m,\u001b[0m \u001b[0mnp\u001b[0m\u001b[1;33m.\u001b[0m\u001b[0mndarray\u001b[0m\u001b[1;33m)\u001b[0m\u001b[1;33m)\u001b[0m\u001b[1;33m:\u001b[0m\u001b[1;33m\u001b[0m\u001b[1;33m\u001b[0m\u001b[0m\n\u001b[1;32m---> 58\u001b[1;33m         \u001b[1;32mreturn\u001b[0m \u001b[1;33m[\u001b[0m\u001b[0m_todict\u001b[0m\u001b[1;33m(\u001b[0m\u001b[0mv\u001b[0m\u001b[1;33m,\u001b[0m \u001b[0mvalidate\u001b[0m\u001b[1;33m,\u001b[0m \u001b[0mcontext\u001b[0m\u001b[1;33m)\u001b[0m \u001b[1;32mfor\u001b[0m \u001b[0mv\u001b[0m \u001b[1;32min\u001b[0m \u001b[0mobj\u001b[0m\u001b[1;33m]\u001b[0m\u001b[1;33m\u001b[0m\u001b[1;33m\u001b[0m\u001b[0m\n\u001b[0m\u001b[0;32m     59\u001b[0m     \u001b[1;32melif\u001b[0m \u001b[0misinstance\u001b[0m\u001b[1;33m(\u001b[0m\u001b[0mobj\u001b[0m\u001b[1;33m,\u001b[0m \u001b[0mdict\u001b[0m\u001b[1;33m)\u001b[0m\u001b[1;33m:\u001b[0m\u001b[1;33m\u001b[0m\u001b[1;33m\u001b[0m\u001b[0m\n\u001b[0;32m     60\u001b[0m         return {\n",
      "\u001b[1;32m~\\miniconda3\\lib\\site-packages\\altair\\utils\\schemapi.py\u001b[0m in \u001b[0;36m_todict\u001b[1;34m(obj, validate, context)\u001b[0m\n\u001b[0;32m     54\u001b[0m     \u001b[1;34m\"\"\"Convert an object to a dict representation.\"\"\"\u001b[0m\u001b[1;33m\u001b[0m\u001b[1;33m\u001b[0m\u001b[0m\n\u001b[0;32m     55\u001b[0m     \u001b[1;32mif\u001b[0m \u001b[0misinstance\u001b[0m\u001b[1;33m(\u001b[0m\u001b[0mobj\u001b[0m\u001b[1;33m,\u001b[0m \u001b[0mSchemaBase\u001b[0m\u001b[1;33m)\u001b[0m\u001b[1;33m:\u001b[0m\u001b[1;33m\u001b[0m\u001b[1;33m\u001b[0m\u001b[0m\n\u001b[1;32m---> 56\u001b[1;33m         \u001b[1;32mreturn\u001b[0m \u001b[0mobj\u001b[0m\u001b[1;33m.\u001b[0m\u001b[0mto_dict\u001b[0m\u001b[1;33m(\u001b[0m\u001b[0mvalidate\u001b[0m\u001b[1;33m=\u001b[0m\u001b[0mvalidate\u001b[0m\u001b[1;33m,\u001b[0m \u001b[0mcontext\u001b[0m\u001b[1;33m=\u001b[0m\u001b[0mcontext\u001b[0m\u001b[1;33m)\u001b[0m\u001b[1;33m\u001b[0m\u001b[1;33m\u001b[0m\u001b[0m\n\u001b[0m\u001b[0;32m     57\u001b[0m     \u001b[1;32melif\u001b[0m \u001b[0misinstance\u001b[0m\u001b[1;33m(\u001b[0m\u001b[0mobj\u001b[0m\u001b[1;33m,\u001b[0m \u001b[1;33m(\u001b[0m\u001b[0mlist\u001b[0m\u001b[1;33m,\u001b[0m \u001b[0mtuple\u001b[0m\u001b[1;33m,\u001b[0m \u001b[0mnp\u001b[0m\u001b[1;33m.\u001b[0m\u001b[0mndarray\u001b[0m\u001b[1;33m)\u001b[0m\u001b[1;33m)\u001b[0m\u001b[1;33m:\u001b[0m\u001b[1;33m\u001b[0m\u001b[1;33m\u001b[0m\u001b[0m\n\u001b[0;32m     58\u001b[0m         \u001b[1;32mreturn\u001b[0m \u001b[1;33m[\u001b[0m\u001b[0m_todict\u001b[0m\u001b[1;33m(\u001b[0m\u001b[0mv\u001b[0m\u001b[1;33m,\u001b[0m \u001b[0mvalidate\u001b[0m\u001b[1;33m,\u001b[0m \u001b[0mcontext\u001b[0m\u001b[1;33m)\u001b[0m \u001b[1;32mfor\u001b[0m \u001b[0mv\u001b[0m \u001b[1;32min\u001b[0m \u001b[0mobj\u001b[0m\u001b[1;33m]\u001b[0m\u001b[1;33m\u001b[0m\u001b[1;33m\u001b[0m\u001b[0m\n",
      "\u001b[1;32m~\\miniconda3\\lib\\site-packages\\altair\\vegalite\\v4\\api.py\u001b[0m in \u001b[0;36mto_dict\u001b[1;34m(self, *args, **kwargs)\u001b[0m\n\u001b[0;32m    371\u001b[0m \u001b[1;33m\u001b[0m\u001b[0m\n\u001b[0;32m    372\u001b[0m         \u001b[1;32mtry\u001b[0m\u001b[1;33m:\u001b[0m\u001b[1;33m\u001b[0m\u001b[1;33m\u001b[0m\u001b[0m\n\u001b[1;32m--> 373\u001b[1;33m             \u001b[0mdct\u001b[0m \u001b[1;33m=\u001b[0m \u001b[0msuper\u001b[0m\u001b[1;33m(\u001b[0m\u001b[0mTopLevelMixin\u001b[0m\u001b[1;33m,\u001b[0m \u001b[0mcopy\u001b[0m\u001b[1;33m)\u001b[0m\u001b[1;33m.\u001b[0m\u001b[0mto_dict\u001b[0m\u001b[1;33m(\u001b[0m\u001b[1;33m*\u001b[0m\u001b[0margs\u001b[0m\u001b[1;33m,\u001b[0m \u001b[1;33m**\u001b[0m\u001b[0mkwargs\u001b[0m\u001b[1;33m)\u001b[0m\u001b[1;33m\u001b[0m\u001b[1;33m\u001b[0m\u001b[0m\n\u001b[0m\u001b[0;32m    374\u001b[0m         \u001b[1;32mexcept\u001b[0m \u001b[0mjsonschema\u001b[0m\u001b[1;33m.\u001b[0m\u001b[0mValidationError\u001b[0m\u001b[1;33m:\u001b[0m\u001b[1;33m\u001b[0m\u001b[1;33m\u001b[0m\u001b[0m\n\u001b[0;32m    375\u001b[0m             \u001b[0mdct\u001b[0m \u001b[1;33m=\u001b[0m \u001b[1;32mNone\u001b[0m\u001b[1;33m\u001b[0m\u001b[1;33m\u001b[0m\u001b[0m\n",
      "\u001b[1;32m~\\miniconda3\\lib\\site-packages\\altair\\utils\\schemapi.py\u001b[0m in \u001b[0;36mto_dict\u001b[1;34m(self, validate, ignore, context)\u001b[0m\n\u001b[0;32m    323\u001b[0m             \u001b[0mresult\u001b[0m \u001b[1;33m=\u001b[0m \u001b[0m_todict\u001b[0m\u001b[1;33m(\u001b[0m\u001b[0mself\u001b[0m\u001b[1;33m.\u001b[0m\u001b[0m_args\u001b[0m\u001b[1;33m[\u001b[0m\u001b[1;36m0\u001b[0m\u001b[1;33m]\u001b[0m\u001b[1;33m,\u001b[0m \u001b[0mvalidate\u001b[0m\u001b[1;33m=\u001b[0m\u001b[0msub_validate\u001b[0m\u001b[1;33m,\u001b[0m \u001b[0mcontext\u001b[0m\u001b[1;33m=\u001b[0m\u001b[0mcontext\u001b[0m\u001b[1;33m)\u001b[0m\u001b[1;33m\u001b[0m\u001b[1;33m\u001b[0m\u001b[0m\n\u001b[0;32m    324\u001b[0m         \u001b[1;32melif\u001b[0m \u001b[1;32mnot\u001b[0m \u001b[0mself\u001b[0m\u001b[1;33m.\u001b[0m\u001b[0m_args\u001b[0m\u001b[1;33m:\u001b[0m\u001b[1;33m\u001b[0m\u001b[1;33m\u001b[0m\u001b[0m\n\u001b[1;32m--> 325\u001b[1;33m             result = _todict(\n\u001b[0m\u001b[0;32m    326\u001b[0m                 \u001b[1;33m{\u001b[0m\u001b[0mk\u001b[0m\u001b[1;33m:\u001b[0m \u001b[0mv\u001b[0m \u001b[1;32mfor\u001b[0m \u001b[0mk\u001b[0m\u001b[1;33m,\u001b[0m \u001b[0mv\u001b[0m \u001b[1;32min\u001b[0m \u001b[0mself\u001b[0m\u001b[1;33m.\u001b[0m\u001b[0m_kwds\u001b[0m\u001b[1;33m.\u001b[0m\u001b[0mitems\u001b[0m\u001b[1;33m(\u001b[0m\u001b[1;33m)\u001b[0m \u001b[1;32mif\u001b[0m \u001b[0mk\u001b[0m \u001b[1;32mnot\u001b[0m \u001b[1;32min\u001b[0m \u001b[0mignore\u001b[0m\u001b[1;33m}\u001b[0m\u001b[1;33m,\u001b[0m\u001b[1;33m\u001b[0m\u001b[1;33m\u001b[0m\u001b[0m\n\u001b[0;32m    327\u001b[0m                 \u001b[0mvalidate\u001b[0m\u001b[1;33m=\u001b[0m\u001b[0msub_validate\u001b[0m\u001b[1;33m,\u001b[0m\u001b[1;33m\u001b[0m\u001b[1;33m\u001b[0m\u001b[0m\n",
      "\u001b[1;32m~\\miniconda3\\lib\\site-packages\\altair\\utils\\schemapi.py\u001b[0m in \u001b[0;36m_todict\u001b[1;34m(obj, validate, context)\u001b[0m\n\u001b[0;32m     58\u001b[0m         \u001b[1;32mreturn\u001b[0m \u001b[1;33m[\u001b[0m\u001b[0m_todict\u001b[0m\u001b[1;33m(\u001b[0m\u001b[0mv\u001b[0m\u001b[1;33m,\u001b[0m \u001b[0mvalidate\u001b[0m\u001b[1;33m,\u001b[0m \u001b[0mcontext\u001b[0m\u001b[1;33m)\u001b[0m \u001b[1;32mfor\u001b[0m \u001b[0mv\u001b[0m \u001b[1;32min\u001b[0m \u001b[0mobj\u001b[0m\u001b[1;33m]\u001b[0m\u001b[1;33m\u001b[0m\u001b[1;33m\u001b[0m\u001b[0m\n\u001b[0;32m     59\u001b[0m     \u001b[1;32melif\u001b[0m \u001b[0misinstance\u001b[0m\u001b[1;33m(\u001b[0m\u001b[0mobj\u001b[0m\u001b[1;33m,\u001b[0m \u001b[0mdict\u001b[0m\u001b[1;33m)\u001b[0m\u001b[1;33m:\u001b[0m\u001b[1;33m\u001b[0m\u001b[1;33m\u001b[0m\u001b[0m\n\u001b[1;32m---> 60\u001b[1;33m         return {\n\u001b[0m\u001b[0;32m     61\u001b[0m             \u001b[0mk\u001b[0m\u001b[1;33m:\u001b[0m \u001b[0m_todict\u001b[0m\u001b[1;33m(\u001b[0m\u001b[0mv\u001b[0m\u001b[1;33m,\u001b[0m \u001b[0mvalidate\u001b[0m\u001b[1;33m,\u001b[0m \u001b[0mcontext\u001b[0m\u001b[1;33m)\u001b[0m\u001b[1;33m\u001b[0m\u001b[1;33m\u001b[0m\u001b[0m\n\u001b[0;32m     62\u001b[0m             \u001b[1;32mfor\u001b[0m \u001b[0mk\u001b[0m\u001b[1;33m,\u001b[0m \u001b[0mv\u001b[0m \u001b[1;32min\u001b[0m \u001b[0mobj\u001b[0m\u001b[1;33m.\u001b[0m\u001b[0mitems\u001b[0m\u001b[1;33m(\u001b[0m\u001b[1;33m)\u001b[0m\u001b[1;33m\u001b[0m\u001b[1;33m\u001b[0m\u001b[0m\n",
      "\u001b[1;32m~\\miniconda3\\lib\\site-packages\\altair\\utils\\schemapi.py\u001b[0m in \u001b[0;36m<dictcomp>\u001b[1;34m(.0)\u001b[0m\n\u001b[0;32m     59\u001b[0m     \u001b[1;32melif\u001b[0m \u001b[0misinstance\u001b[0m\u001b[1;33m(\u001b[0m\u001b[0mobj\u001b[0m\u001b[1;33m,\u001b[0m \u001b[0mdict\u001b[0m\u001b[1;33m)\u001b[0m\u001b[1;33m:\u001b[0m\u001b[1;33m\u001b[0m\u001b[1;33m\u001b[0m\u001b[0m\n\u001b[0;32m     60\u001b[0m         return {\n\u001b[1;32m---> 61\u001b[1;33m             \u001b[0mk\u001b[0m\u001b[1;33m:\u001b[0m \u001b[0m_todict\u001b[0m\u001b[1;33m(\u001b[0m\u001b[0mv\u001b[0m\u001b[1;33m,\u001b[0m \u001b[0mvalidate\u001b[0m\u001b[1;33m,\u001b[0m \u001b[0mcontext\u001b[0m\u001b[1;33m)\u001b[0m\u001b[1;33m\u001b[0m\u001b[1;33m\u001b[0m\u001b[0m\n\u001b[0m\u001b[0;32m     62\u001b[0m             \u001b[1;32mfor\u001b[0m \u001b[0mk\u001b[0m\u001b[1;33m,\u001b[0m \u001b[0mv\u001b[0m \u001b[1;32min\u001b[0m \u001b[0mobj\u001b[0m\u001b[1;33m.\u001b[0m\u001b[0mitems\u001b[0m\u001b[1;33m(\u001b[0m\u001b[1;33m)\u001b[0m\u001b[1;33m\u001b[0m\u001b[1;33m\u001b[0m\u001b[0m\n\u001b[0;32m     63\u001b[0m             \u001b[1;32mif\u001b[0m \u001b[0mv\u001b[0m \u001b[1;32mis\u001b[0m \u001b[1;32mnot\u001b[0m \u001b[0mUndefined\u001b[0m\u001b[1;33m\u001b[0m\u001b[1;33m\u001b[0m\u001b[0m\n",
      "\u001b[1;32m~\\miniconda3\\lib\\site-packages\\altair\\utils\\schemapi.py\u001b[0m in \u001b[0;36m_todict\u001b[1;34m(obj, validate, context)\u001b[0m\n\u001b[0;32m     54\u001b[0m     \u001b[1;34m\"\"\"Convert an object to a dict representation.\"\"\"\u001b[0m\u001b[1;33m\u001b[0m\u001b[1;33m\u001b[0m\u001b[0m\n\u001b[0;32m     55\u001b[0m     \u001b[1;32mif\u001b[0m \u001b[0misinstance\u001b[0m\u001b[1;33m(\u001b[0m\u001b[0mobj\u001b[0m\u001b[1;33m,\u001b[0m \u001b[0mSchemaBase\u001b[0m\u001b[1;33m)\u001b[0m\u001b[1;33m:\u001b[0m\u001b[1;33m\u001b[0m\u001b[1;33m\u001b[0m\u001b[0m\n\u001b[1;32m---> 56\u001b[1;33m         \u001b[1;32mreturn\u001b[0m \u001b[0mobj\u001b[0m\u001b[1;33m.\u001b[0m\u001b[0mto_dict\u001b[0m\u001b[1;33m(\u001b[0m\u001b[0mvalidate\u001b[0m\u001b[1;33m=\u001b[0m\u001b[0mvalidate\u001b[0m\u001b[1;33m,\u001b[0m \u001b[0mcontext\u001b[0m\u001b[1;33m=\u001b[0m\u001b[0mcontext\u001b[0m\u001b[1;33m)\u001b[0m\u001b[1;33m\u001b[0m\u001b[1;33m\u001b[0m\u001b[0m\n\u001b[0m\u001b[0;32m     57\u001b[0m     \u001b[1;32melif\u001b[0m \u001b[0misinstance\u001b[0m\u001b[1;33m(\u001b[0m\u001b[0mobj\u001b[0m\u001b[1;33m,\u001b[0m \u001b[1;33m(\u001b[0m\u001b[0mlist\u001b[0m\u001b[1;33m,\u001b[0m \u001b[0mtuple\u001b[0m\u001b[1;33m,\u001b[0m \u001b[0mnp\u001b[0m\u001b[1;33m.\u001b[0m\u001b[0mndarray\u001b[0m\u001b[1;33m)\u001b[0m\u001b[1;33m)\u001b[0m\u001b[1;33m:\u001b[0m\u001b[1;33m\u001b[0m\u001b[1;33m\u001b[0m\u001b[0m\n\u001b[0;32m     58\u001b[0m         \u001b[1;32mreturn\u001b[0m \u001b[1;33m[\u001b[0m\u001b[0m_todict\u001b[0m\u001b[1;33m(\u001b[0m\u001b[0mv\u001b[0m\u001b[1;33m,\u001b[0m \u001b[0mvalidate\u001b[0m\u001b[1;33m,\u001b[0m \u001b[0mcontext\u001b[0m\u001b[1;33m)\u001b[0m \u001b[1;32mfor\u001b[0m \u001b[0mv\u001b[0m \u001b[1;32min\u001b[0m \u001b[0mobj\u001b[0m\u001b[1;33m]\u001b[0m\u001b[1;33m\u001b[0m\u001b[1;33m\u001b[0m\u001b[0m\n",
      "\u001b[1;32m~\\miniconda3\\lib\\site-packages\\altair\\utils\\schemapi.py\u001b[0m in \u001b[0;36mto_dict\u001b[1;34m(self, validate, ignore, context)\u001b[0m\n\u001b[0;32m    323\u001b[0m             \u001b[0mresult\u001b[0m \u001b[1;33m=\u001b[0m \u001b[0m_todict\u001b[0m\u001b[1;33m(\u001b[0m\u001b[0mself\u001b[0m\u001b[1;33m.\u001b[0m\u001b[0m_args\u001b[0m\u001b[1;33m[\u001b[0m\u001b[1;36m0\u001b[0m\u001b[1;33m]\u001b[0m\u001b[1;33m,\u001b[0m \u001b[0mvalidate\u001b[0m\u001b[1;33m=\u001b[0m\u001b[0msub_validate\u001b[0m\u001b[1;33m,\u001b[0m \u001b[0mcontext\u001b[0m\u001b[1;33m=\u001b[0m\u001b[0mcontext\u001b[0m\u001b[1;33m)\u001b[0m\u001b[1;33m\u001b[0m\u001b[1;33m\u001b[0m\u001b[0m\n\u001b[0;32m    324\u001b[0m         \u001b[1;32melif\u001b[0m \u001b[1;32mnot\u001b[0m \u001b[0mself\u001b[0m\u001b[1;33m.\u001b[0m\u001b[0m_args\u001b[0m\u001b[1;33m:\u001b[0m\u001b[1;33m\u001b[0m\u001b[1;33m\u001b[0m\u001b[0m\n\u001b[1;32m--> 325\u001b[1;33m             result = _todict(\n\u001b[0m\u001b[0;32m    326\u001b[0m                 \u001b[1;33m{\u001b[0m\u001b[0mk\u001b[0m\u001b[1;33m:\u001b[0m \u001b[0mv\u001b[0m \u001b[1;32mfor\u001b[0m \u001b[0mk\u001b[0m\u001b[1;33m,\u001b[0m \u001b[0mv\u001b[0m \u001b[1;32min\u001b[0m \u001b[0mself\u001b[0m\u001b[1;33m.\u001b[0m\u001b[0m_kwds\u001b[0m\u001b[1;33m.\u001b[0m\u001b[0mitems\u001b[0m\u001b[1;33m(\u001b[0m\u001b[1;33m)\u001b[0m \u001b[1;32mif\u001b[0m \u001b[0mk\u001b[0m \u001b[1;32mnot\u001b[0m \u001b[1;32min\u001b[0m \u001b[0mignore\u001b[0m\u001b[1;33m}\u001b[0m\u001b[1;33m,\u001b[0m\u001b[1;33m\u001b[0m\u001b[1;33m\u001b[0m\u001b[0m\n\u001b[0;32m    327\u001b[0m                 \u001b[0mvalidate\u001b[0m\u001b[1;33m=\u001b[0m\u001b[0msub_validate\u001b[0m\u001b[1;33m,\u001b[0m\u001b[1;33m\u001b[0m\u001b[1;33m\u001b[0m\u001b[0m\n",
      "\u001b[1;32m~\\miniconda3\\lib\\site-packages\\altair\\utils\\schemapi.py\u001b[0m in \u001b[0;36m_todict\u001b[1;34m(obj, validate, context)\u001b[0m\n\u001b[0;32m     58\u001b[0m         \u001b[1;32mreturn\u001b[0m \u001b[1;33m[\u001b[0m\u001b[0m_todict\u001b[0m\u001b[1;33m(\u001b[0m\u001b[0mv\u001b[0m\u001b[1;33m,\u001b[0m \u001b[0mvalidate\u001b[0m\u001b[1;33m,\u001b[0m \u001b[0mcontext\u001b[0m\u001b[1;33m)\u001b[0m \u001b[1;32mfor\u001b[0m \u001b[0mv\u001b[0m \u001b[1;32min\u001b[0m \u001b[0mobj\u001b[0m\u001b[1;33m]\u001b[0m\u001b[1;33m\u001b[0m\u001b[1;33m\u001b[0m\u001b[0m\n\u001b[0;32m     59\u001b[0m     \u001b[1;32melif\u001b[0m \u001b[0misinstance\u001b[0m\u001b[1;33m(\u001b[0m\u001b[0mobj\u001b[0m\u001b[1;33m,\u001b[0m \u001b[0mdict\u001b[0m\u001b[1;33m)\u001b[0m\u001b[1;33m:\u001b[0m\u001b[1;33m\u001b[0m\u001b[1;33m\u001b[0m\u001b[0m\n\u001b[1;32m---> 60\u001b[1;33m         return {\n\u001b[0m\u001b[0;32m     61\u001b[0m             \u001b[0mk\u001b[0m\u001b[1;33m:\u001b[0m \u001b[0m_todict\u001b[0m\u001b[1;33m(\u001b[0m\u001b[0mv\u001b[0m\u001b[1;33m,\u001b[0m \u001b[0mvalidate\u001b[0m\u001b[1;33m,\u001b[0m \u001b[0mcontext\u001b[0m\u001b[1;33m)\u001b[0m\u001b[1;33m\u001b[0m\u001b[1;33m\u001b[0m\u001b[0m\n\u001b[0;32m     62\u001b[0m             \u001b[1;32mfor\u001b[0m \u001b[0mk\u001b[0m\u001b[1;33m,\u001b[0m \u001b[0mv\u001b[0m \u001b[1;32min\u001b[0m \u001b[0mobj\u001b[0m\u001b[1;33m.\u001b[0m\u001b[0mitems\u001b[0m\u001b[1;33m(\u001b[0m\u001b[1;33m)\u001b[0m\u001b[1;33m\u001b[0m\u001b[1;33m\u001b[0m\u001b[0m\n",
      "\u001b[1;32m~\\miniconda3\\lib\\site-packages\\altair\\utils\\schemapi.py\u001b[0m in \u001b[0;36m<dictcomp>\u001b[1;34m(.0)\u001b[0m\n\u001b[0;32m     59\u001b[0m     \u001b[1;32melif\u001b[0m \u001b[0misinstance\u001b[0m\u001b[1;33m(\u001b[0m\u001b[0mobj\u001b[0m\u001b[1;33m,\u001b[0m \u001b[0mdict\u001b[0m\u001b[1;33m)\u001b[0m\u001b[1;33m:\u001b[0m\u001b[1;33m\u001b[0m\u001b[1;33m\u001b[0m\u001b[0m\n\u001b[0;32m     60\u001b[0m         return {\n\u001b[1;32m---> 61\u001b[1;33m             \u001b[0mk\u001b[0m\u001b[1;33m:\u001b[0m \u001b[0m_todict\u001b[0m\u001b[1;33m(\u001b[0m\u001b[0mv\u001b[0m\u001b[1;33m,\u001b[0m \u001b[0mvalidate\u001b[0m\u001b[1;33m,\u001b[0m \u001b[0mcontext\u001b[0m\u001b[1;33m)\u001b[0m\u001b[1;33m\u001b[0m\u001b[1;33m\u001b[0m\u001b[0m\n\u001b[0m\u001b[0;32m     62\u001b[0m             \u001b[1;32mfor\u001b[0m \u001b[0mk\u001b[0m\u001b[1;33m,\u001b[0m \u001b[0mv\u001b[0m \u001b[1;32min\u001b[0m \u001b[0mobj\u001b[0m\u001b[1;33m.\u001b[0m\u001b[0mitems\u001b[0m\u001b[1;33m(\u001b[0m\u001b[1;33m)\u001b[0m\u001b[1;33m\u001b[0m\u001b[1;33m\u001b[0m\u001b[0m\n\u001b[0;32m     63\u001b[0m             \u001b[1;32mif\u001b[0m \u001b[0mv\u001b[0m \u001b[1;32mis\u001b[0m \u001b[1;32mnot\u001b[0m \u001b[0mUndefined\u001b[0m\u001b[1;33m\u001b[0m\u001b[1;33m\u001b[0m\u001b[0m\n",
      "\u001b[1;32m~\\miniconda3\\lib\\site-packages\\altair\\utils\\schemapi.py\u001b[0m in \u001b[0;36m_todict\u001b[1;34m(obj, validate, context)\u001b[0m\n\u001b[0;32m     54\u001b[0m     \u001b[1;34m\"\"\"Convert an object to a dict representation.\"\"\"\u001b[0m\u001b[1;33m\u001b[0m\u001b[1;33m\u001b[0m\u001b[0m\n\u001b[0;32m     55\u001b[0m     \u001b[1;32mif\u001b[0m \u001b[0misinstance\u001b[0m\u001b[1;33m(\u001b[0m\u001b[0mobj\u001b[0m\u001b[1;33m,\u001b[0m \u001b[0mSchemaBase\u001b[0m\u001b[1;33m)\u001b[0m\u001b[1;33m:\u001b[0m\u001b[1;33m\u001b[0m\u001b[1;33m\u001b[0m\u001b[0m\n\u001b[1;32m---> 56\u001b[1;33m         \u001b[1;32mreturn\u001b[0m \u001b[0mobj\u001b[0m\u001b[1;33m.\u001b[0m\u001b[0mto_dict\u001b[0m\u001b[1;33m(\u001b[0m\u001b[0mvalidate\u001b[0m\u001b[1;33m=\u001b[0m\u001b[0mvalidate\u001b[0m\u001b[1;33m,\u001b[0m \u001b[0mcontext\u001b[0m\u001b[1;33m=\u001b[0m\u001b[0mcontext\u001b[0m\u001b[1;33m)\u001b[0m\u001b[1;33m\u001b[0m\u001b[1;33m\u001b[0m\u001b[0m\n\u001b[0m\u001b[0;32m     57\u001b[0m     \u001b[1;32melif\u001b[0m \u001b[0misinstance\u001b[0m\u001b[1;33m(\u001b[0m\u001b[0mobj\u001b[0m\u001b[1;33m,\u001b[0m \u001b[1;33m(\u001b[0m\u001b[0mlist\u001b[0m\u001b[1;33m,\u001b[0m \u001b[0mtuple\u001b[0m\u001b[1;33m,\u001b[0m \u001b[0mnp\u001b[0m\u001b[1;33m.\u001b[0m\u001b[0mndarray\u001b[0m\u001b[1;33m)\u001b[0m\u001b[1;33m)\u001b[0m\u001b[1;33m:\u001b[0m\u001b[1;33m\u001b[0m\u001b[1;33m\u001b[0m\u001b[0m\n\u001b[0;32m     58\u001b[0m         \u001b[1;32mreturn\u001b[0m \u001b[1;33m[\u001b[0m\u001b[0m_todict\u001b[0m\u001b[1;33m(\u001b[0m\u001b[0mv\u001b[0m\u001b[1;33m,\u001b[0m \u001b[0mvalidate\u001b[0m\u001b[1;33m,\u001b[0m \u001b[0mcontext\u001b[0m\u001b[1;33m)\u001b[0m \u001b[1;32mfor\u001b[0m \u001b[0mv\u001b[0m \u001b[1;32min\u001b[0m \u001b[0mobj\u001b[0m\u001b[1;33m]\u001b[0m\u001b[1;33m\u001b[0m\u001b[1;33m\u001b[0m\u001b[0m\n",
      "\u001b[1;32m~\\miniconda3\\lib\\site-packages\\altair\\vegalite\\v4\\schema\\channels.py\u001b[0m in \u001b[0;36mto_dict\u001b[1;34m(self, validate, ignore, context)\u001b[0m\n\u001b[0;32m     38\u001b[0m             \u001b[1;32melif\u001b[0m \u001b[1;32mnot\u001b[0m \u001b[1;33m(\u001b[0m\u001b[0mtype_in_shorthand\u001b[0m \u001b[1;32mor\u001b[0m \u001b[0mtype_defined_explicitly\u001b[0m\u001b[1;33m)\u001b[0m\u001b[1;33m:\u001b[0m\u001b[1;33m\u001b[0m\u001b[1;33m\u001b[0m\u001b[0m\n\u001b[0;32m     39\u001b[0m                 \u001b[1;32mif\u001b[0m \u001b[0misinstance\u001b[0m\u001b[1;33m(\u001b[0m\u001b[0mcontext\u001b[0m\u001b[1;33m.\u001b[0m\u001b[0mget\u001b[0m\u001b[1;33m(\u001b[0m\u001b[1;34m'data'\u001b[0m\u001b[1;33m,\u001b[0m \u001b[1;32mNone\u001b[0m\u001b[1;33m)\u001b[0m\u001b[1;33m,\u001b[0m \u001b[0mpd\u001b[0m\u001b[1;33m.\u001b[0m\u001b[0mDataFrame\u001b[0m\u001b[1;33m)\u001b[0m\u001b[1;33m:\u001b[0m\u001b[1;33m\u001b[0m\u001b[1;33m\u001b[0m\u001b[0m\n\u001b[1;32m---> 40\u001b[1;33m                     raise ValueError(\"{} encoding field is specified without a type; \"\n\u001b[0m\u001b[0;32m     41\u001b[0m                                      \u001b[1;34m\"the type cannot be inferred because it does not \"\u001b[0m\u001b[1;33m\u001b[0m\u001b[1;33m\u001b[0m\u001b[0m\n\u001b[0;32m     42\u001b[0m                                      \"match any column in the data.\".format(shorthand))\n",
      "\u001b[1;31mValueError\u001b[0m: Linelabel encoding field is specified without a type; the type cannot be inferred because it does not match any column in the data."
     ]
    }
   ],
   "source": [
    "scatter_plot_dates(cat='Fantasy')"
   ]
  },
  {
   "cell_type": "code",
   "execution_count": null,
   "metadata": {},
   "outputs": [],
   "source": []
  }
 ]
}